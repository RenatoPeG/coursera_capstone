{
 "cells": [
  {
   "cell_type": "markdown",
   "metadata": {},
   "source": [
    "## Part 2 - Using Geocoder to get lat and lng"
   ]
  },
  {
   "cell_type": "code",
   "execution_count": 1,
   "metadata": {},
   "outputs": [
    {
     "name": "stdout",
     "output_type": "stream",
     "text": [
      "Defaulting to user installation because normal site-packages is not writeable\n",
      "Requirement already satisfied: lxml in c:\\users\\renato\\appdata\\roaming\\python\\python38\\site-packages (4.6.1)\n",
      "Requirement already satisfied: html5lib in c:\\users\\renato\\appdata\\roaming\\python\\python38\\site-packages (1.1)\n",
      "Requirement already satisfied: beautifulsoup4 in c:\\users\\renato\\appdata\\roaming\\python\\python38\\site-packages (4.9.3)\n",
      "Requirement already satisfied: geocoder in c:\\users\\renato\\appdata\\roaming\\python\\python38\\site-packages (1.38.1)\n",
      "Requirement already satisfied: webencodings in c:\\program files\\python38\\lib\\site-packages (from html5lib) (0.5.1)\n",
      "Requirement already satisfied: six>=1.9 in c:\\program files\\python38\\lib\\site-packages (from html5lib) (1.15.0)\n",
      "Requirement already satisfied: soupsieve>1.2; python_version >= \"3.0\" in c:\\users\\renato\\appdata\\roaming\\python\\python38\\site-packages (from beautifulsoup4) (2.0.1)\n",
      "Requirement already satisfied: click in c:\\users\\renato\\appdata\\roaming\\python\\python38\\site-packages (from geocoder) (7.1.2)\n",
      "Requirement already satisfied: future in c:\\program files\\python38\\lib\\site-packages (from geocoder) (0.18.2)\n",
      "Requirement already satisfied: requests in c:\\program files\\python38\\lib\\site-packages (from geocoder) (2.24.0)\n",
      "Requirement already satisfied: ratelim in c:\\users\\renato\\appdata\\roaming\\python\\python38\\site-packages (from geocoder) (0.1.6)\n",
      "Requirement already satisfied: chardet<4,>=3.0.2 in c:\\program files\\python38\\lib\\site-packages (from requests->geocoder) (3.0.4)\n",
      "Requirement already satisfied: idna<3,>=2.5 in c:\\program files\\python38\\lib\\site-packages (from requests->geocoder) (2.10)\n",
      "Requirement already satisfied: urllib3!=1.25.0,!=1.25.1,<1.26,>=1.21.1 in c:\\program files\\python38\\lib\\site-packages (from requests->geocoder) (1.25.10)\n",
      "Requirement already satisfied: certifi>=2017.4.17 in c:\\program files\\python38\\lib\\site-packages (from requests->geocoder) (2020.6.20)\n",
      "Requirement already satisfied: decorator in c:\\program files\\python38\\lib\\site-packages (from ratelim->geocoder) (4.4.2)\n"
     ]
    }
   ],
   "source": [
    "!pip install lxml html5lib beautifulsoup4 geocoder"
   ]
  },
  {
   "cell_type": "code",
   "execution_count": null,
   "metadata": {},
   "outputs": [],
   "source": [
    "import geocoder"
   ]
  },
  {
   "cell_type": "code",
   "execution_count": null,
   "metadata": {},
   "outputs": [],
   "source": [
    "# initialize your variable to None\n",
    "lat_lng_coords = None\n",
    "\n",
    "# loop until you get the coordinates\n",
    "while(lat_lng_coords is None):\n",
    "  g = geocoder.google('{}, Toronto, Ontario'.format(postal_code))\n",
    "  lat_lng_coords = g.latlng\n",
    "\n",
    "latitude = lat_lng_coords[0]\n",
    "longitude = lat_lng_coords[1]"
   ]
  }
 ],
 "metadata": {
  "kernelspec": {
   "display_name": "Python 3",
   "language": "python",
   "name": "python3"
  },
  "language_info": {
   "codemirror_mode": {
    "name": "ipython",
    "version": 3
   },
   "file_extension": ".py",
   "mimetype": "text/x-python",
   "name": "python",
   "nbconvert_exporter": "python",
   "pygments_lexer": "ipython3",
   "version": "3.8.3"
  }
 },
 "nbformat": 4,
 "nbformat_minor": 4
}
